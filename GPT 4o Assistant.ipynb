{
 "cells": [
  {
   "cell_type": "markdown",
   "id": "4c1c7885-1821-4793-a7bf-ba143070a16d",
   "metadata": {},
   "source": [
    "#### First import OS package in order to use enviroment variables"
   ]
  },
  {
   "cell_type": "code",
   "execution_count": 1,
   "id": "d4465814-77c0-44d4-9f7e-71128e0f5f5d",
   "metadata": {},
   "outputs": [],
   "source": [
    "import os"
   ]
  },
  {
   "cell_type": "markdown",
   "id": "27377f71-243c-441a-ba74-c396bbfc704e",
   "metadata": {},
   "source": [
    "#### Next, get the OpenAI package and set the Pandas package as pd"
   ]
  },
  {
   "cell_type": "code",
   "execution_count": 6,
   "id": "ee07c600-3e3d-4884-b926-25d1975eb755",
   "metadata": {},
   "outputs": [],
   "source": [
    "from openai import OpenAI"
   ]
  },
  {
   "cell_type": "code",
   "execution_count": 7,
   "id": "adec45ff-a258-4fe0-a5f7-fd3de3566071",
   "metadata": {},
   "outputs": [],
   "source": [
    "import pandas as pd"
   ]
  },
  {
   "cell_type": "markdown",
   "id": "922d65df-36bb-4230-8de0-07060a8d669d",
   "metadata": {},
   "source": [
    "#### Get the config file with the API token and setup the client"
   ]
  },
  {
   "cell_type": "code",
   "execution_count": 10,
   "id": "1ca84e16-be6a-43b0-9603-ee9cde38e6b3",
   "metadata": {},
   "outputs": [],
   "source": [
    "import config\n",
    "config.apiToken()"
   ]
  },
  {
   "cell_type": "code",
   "execution_count": 11,
   "id": "90de5d37-02e7-4c1f-92d2-be4262faf6f9",
   "metadata": {},
   "outputs": [],
   "source": [
    "client = OpenAI()"
   ]
  },
  {
   "cell_type": "code",
   "execution_count": 13,
   "id": "c91f0331-9176-4e14-a05e-93e94c05bab1",
   "metadata": {},
   "outputs": [
    {
     "data": {
      "text/html": [
       "<div>\n",
       "<style scoped>\n",
       "    .dataframe tbody tr th:only-of-type {\n",
       "        vertical-align: middle;\n",
       "    }\n",
       "\n",
       "    .dataframe tbody tr th {\n",
       "        vertical-align: top;\n",
       "    }\n",
       "\n",
       "    .dataframe thead th {\n",
       "        text-align: right;\n",
       "    }\n",
       "</style>\n",
       "<table border=\"1\" class=\"dataframe\">\n",
       "  <thead>\n",
       "    <tr style=\"text-align: right;\">\n",
       "      <th></th>\n",
       "      <th>filename</th>\n",
       "      <th>title</th>\n",
       "    </tr>\n",
       "  </thead>\n",
       "  <tbody>\n",
       "    <tr>\n",
       "      <th>0</th>\n",
       "      <td>papers/2405.10313v1.pdf</td>\n",
       "      <td>How Far Are We From AGI?</td>\n",
       "    </tr>\n",
       "    <tr>\n",
       "      <th>1</th>\n",
       "      <td>papers/2401.03428v1.pdf</td>\n",
       "      <td>EXPLORING LARGE LANGUAGE MODEL BASED INTELLIGE...</td>\n",
       "    </tr>\n",
       "    <tr>\n",
       "      <th>2</th>\n",
       "      <td>papers/2401.09395v2.pdf</td>\n",
       "      <td>CAUGHT IN THE QUICKSAND OF REASONING, FAR FROM...</td>\n",
       "    </tr>\n",
       "    <tr>\n",
       "      <th>3</th>\n",
       "      <td>papers/2401.13142v3.pdf</td>\n",
       "      <td>Unsocial Intelligence: an Investigation of the...</td>\n",
       "    </tr>\n",
       "    <tr>\n",
       "      <th>4</th>\n",
       "      <td>papers/2403.02164v2.pdf</td>\n",
       "      <td>Cognition is All You Need The Next Layer of AI...</td>\n",
       "    </tr>\n",
       "    <tr>\n",
       "      <th>5</th>\n",
       "      <td>papers/2403.12107v1.pdf</td>\n",
       "      <td>Scenarios for the Transition to AGI</td>\n",
       "    </tr>\n",
       "    <tr>\n",
       "      <th>6</th>\n",
       "      <td>papers/2404.10731v1.pdf</td>\n",
       "      <td>What is Meant by AGI? On the Definition of Art...</td>\n",
       "    </tr>\n",
       "    <tr>\n",
       "      <th>7</th>\n",
       "      <td>papers/2312.11562v5.pdf</td>\n",
       "      <td>A Survey of Reasoning with Foundation Models</td>\n",
       "    </tr>\n",
       "    <tr>\n",
       "      <th>8</th>\n",
       "      <td>papers/2311.02462v2.pdf</td>\n",
       "      <td>Levels of AGI: Operationalizing Progress on th...</td>\n",
       "    </tr>\n",
       "    <tr>\n",
       "      <th>9</th>\n",
       "      <td>papers/2310.15274v1.pdf</td>\n",
       "      <td>Systematic AI Approach for AGI: Addressing Ali...</td>\n",
       "    </tr>\n",
       "  </tbody>\n",
       "</table>\n",
       "</div>"
      ],
      "text/plain": [
       "                  filename                                              title\n",
       "0  papers/2405.10313v1.pdf                           How Far Are We From AGI?\n",
       "1  papers/2401.03428v1.pdf  EXPLORING LARGE LANGUAGE MODEL BASED INTELLIGE...\n",
       "2  papers/2401.09395v2.pdf  CAUGHT IN THE QUICKSAND OF REASONING, FAR FROM...\n",
       "3  papers/2401.13142v3.pdf  Unsocial Intelligence: an Investigation of the...\n",
       "4  papers/2403.02164v2.pdf  Cognition is All You Need The Next Layer of AI...\n",
       "5  papers/2403.12107v1.pdf                Scenarios for the Transition to AGI\n",
       "6  papers/2404.10731v1.pdf  What is Meant by AGI? On the Definition of Art...\n",
       "7  papers/2312.11562v5.pdf       A Survey of Reasoning with Foundation Models\n",
       "8  papers/2311.02462v2.pdf  Levels of AGI: Operationalizing Progress on th...\n",
       "9  papers/2310.15274v1.pdf  Systematic AI Approach for AGI: Addressing Ali..."
      ]
     },
     "execution_count": 13,
     "metadata": {},
     "output_type": "execute_result"
    }
   ],
   "source": [
    "papers = pd.DataFrame({\n",
    "    \"filename\": [\n",
    "        \"2405.10313v1.pdf\",\n",
    "        \"2401.03428v1.pdf\",\n",
    "        \"2401.09395v2.pdf\",\n",
    "        \"2401.13142v3.pdf\",\n",
    "        \"2403.02164v2.pdf\",\n",
    "        \"2403.12107v1.pdf\",\n",
    "        \"2404.10731v1.pdf\",\n",
    "        \"2312.11562v5.pdf\",\n",
    "        \"2311.02462v2.pdf\",\n",
    "        \"2310.15274v1.pdf\"\n",
    "    ],\n",
    "    \"title\": [\n",
    "        \"How Far Are We From AGI?\",\n",
    "        \"EXPLORING LARGE LANGUAGE MODEL BASED INTELLIGENT AGENTS: DEFINITIONS, METHODS, AND PROSPECTS\",\n",
    "        \"CAUGHT IN THE QUICKSAND OF REASONING, FAR FROM AGI SUMMIT: Evaluating LLMs’ Mathematical and Coding Competency through Ontology-guided Interventions\",\n",
    "        \"Unsocial Intelligence: an Investigation of the Assumptions of AGI Discourse\",\n",
    "        \"Cognition is All You Need The Next Layer of AI Above Large Language Models\",\n",
    "        \"Scenarios for the Transition to AGI\",\n",
    "        \"What is Meant by AGI? On the Definition of Artificial General Intelligence\",\n",
    "        \"A Survey of Reasoning with Foundation Models\",\n",
    "        \"Levels of AGI: Operationalizing Progress on the Path to AGI\",\n",
    "        \"Systematic AI Approach for AGI: Addressing Alignment, Energy, and AGI Grand Challenges\"\n",
    "    ]\n",
    "})\n",
    "papers[\"filename\"] = \"papers/\" + papers[\"filename\"]\n",
    "papers"
   ]
  },
  {
   "cell_type": "code",
   "execution_count": 14,
   "id": "5787f659-8f9c-431c-8e97-6afa8f3ddff9",
   "metadata": {},
   "outputs": [],
   "source": [
    "def upload_file_for_assistant(file_path): \n",
    "    uploaded_file = client.files.create(\n",
    "        file=open(file_path, \"rb\"),\n",
    "        purpose='assistants'\n",
    "    )\n",
    "    return uploaded_file.id"
   ]
  },
  {
   "cell_type": "code",
   "execution_count": 17,
   "id": "879d3af5-e20b-4efd-b8c5-d7db552b7f73",
   "metadata": {},
   "outputs": [],
   "source": [
    "uploaded_file_ids = papers['filename'] \\\n",
    "    .apply(upload_file_for_assistant)\\\n",
    "    .to_list()"
   ]
  },
  {
   "cell_type": "code",
   "execution_count": 38,
   "id": "63668ed5-2f92-4963-b369-cb01c73712e4",
   "metadata": {},
   "outputs": [
    {
     "data": {
      "text/plain": [
       "VectorStore(id='vs_xjMgYgwjrroetSWr1Oc58Lll', created_at=1733923915, file_counts=FileCounts(cancelled=0, completed=0, failed=0, in_progress=10, total=10), last_active_at=1733923915, metadata={}, name='agi_papers', object='vector_store', status='in_progress', usage_bytes=0, expires_after=None, expires_at=None)"
      ]
     },
     "execution_count": 38,
     "metadata": {},
     "output_type": "execute_result"
    }
   ],
   "source": [
    "vstore = client.beta.vector_stores.create(\n",
    "    file_ids = uploaded_file_ids,\n",
    "    name = \"agi_papers\"\n",
    ")\n",
    "vstore"
   ]
  },
  {
   "cell_type": "code",
   "execution_count": 21,
   "id": "4ccd65c4-66f1-4249-896c-ed2eba0669fe",
   "metadata": {},
   "outputs": [],
   "source": [
    "# Run this\n",
    "assistant_prompt = \"\"\"\n",
    "You are Aggie, a knowledgeable and articulate AI assistant specializing in artificial general intelligence (AGI). Your primary role is to read and explain the contents of academic journal articles, particularly those available on arXiv in PDF form. Your target audience comprises data scientists who are familiar with AI concepts but may not be experts in AGI.\n",
    "\n",
    "When explaining the contents of the papers, follow these guidelines:\n",
    "\n",
    "Introduction: Start with a brief overview of the paper's title, authors, and the main objective or research question addressed.\n",
    "\n",
    "Abstract Summary: Provide a concise summary of the abstract, highlighting the key points and findings.\n",
    "\n",
    "Key Sections and Findings: Break down the paper into its main sections (e.g., Introduction, Methods, Results, Discussion). For each section, provide a summary that includes:\n",
    "\n",
    "The main points and arguments presented.\n",
    "Any important methods or techniques used.\n",
    "Key results and findings.\n",
    "The significance and implications of these findings.\n",
    "Conclusion: Summarize the conclusions drawn by the authors, including any limitations they mention and future research directions suggested.\n",
    "\n",
    "Critical Analysis: Offer a critical analysis of the paper, discussing its strengths and weaknesses. Highlight any innovative approaches or significant contributions to the field of AGI.\n",
    "\n",
    "Contextual Understanding: Place the paper in the context of the broader field of AGI research. Mention how it relates to other work in the area and its potential impact on future research and applications.\n",
    "\n",
    "Practical Takeaways: Provide practical takeaways or insights that data scientists can apply in their work. This could include novel methodologies, interesting datasets, or potential areas for collaboration or further study.\n",
    "\n",
    "Q&A Readiness: Be prepared to answer any follow-up questions that data scientists might have about the paper, providing clear and concise explanations.\n",
    "\n",
    "Ensure that your explanations are clear, concise, and accessible, avoiding unnecessary jargon. Your goal is to make complex AGI research comprehensible and relevant to data scientists, facilitating their understanding and engagement with the latest advancements in the field.\n",
    "\"\"\""
   ]
  },
  {
   "cell_type": "code",
   "execution_count": 40,
   "id": "617e35ef-0be0-47ce-9ddc-593658e0e7d7",
   "metadata": {},
   "outputs": [],
   "source": [
    "aggie = client.beta.assistants.create(\n",
    "\tname = \"aggie\",\n",
    "\tinstructions = assistant_prompt,\n",
    "\tmodel=\"gpt-4o-mini\",\n",
    "\ttools=[{\"type\": \"file_search\"}],\n",
    "    tool_resources={\"file_search\": {\"vector_store_ids\": [vstore.id]}}\n",
    ")"
   ]
  },
  {
   "cell_type": "code",
   "execution_count": 41,
   "id": "0e4a6aab-827d-4869-8bec-2ccd330f9914",
   "metadata": {},
   "outputs": [
    {
     "data": {
      "text/plain": [
       "Assistant(id='asst_dJlVGO2h8HH2u8OWQV5D37vu', created_at=1733924193, description=None, instructions=\"\\nYou are Aggie, a knowledgeable and articulate AI assistant specializing in artificial general intelligence (AGI). Your primary role is to read and explain the contents of academic journal articles, particularly those available on arXiv in PDF form. Your target audience comprises data scientists who are familiar with AI concepts but may not be experts in AGI.\\n\\nWhen explaining the contents of the papers, follow these guidelines:\\n\\nIntroduction: Start with a brief overview of the paper's title, authors, and the main objective or research question addressed.\\n\\nAbstract Summary: Provide a concise summary of the abstract, highlighting the key points and findings.\\n\\nKey Sections and Findings: Break down the paper into its main sections (e.g., Introduction, Methods, Results, Discussion). For each section, provide a summary that includes:\\n\\nThe main points and arguments presented.\\nAny important methods or techniques used.\\nKey results and findings.\\nThe significance and implications of these findings.\\nConclusion: Summarize the conclusions drawn by the authors, including any limitations they mention and future research directions suggested.\\n\\nCritical Analysis: Offer a critical analysis of the paper, discussing its strengths and weaknesses. Highlight any innovative approaches or significant contributions to the field of AGI.\\n\\nContextual Understanding: Place the paper in the context of the broader field of AGI research. Mention how it relates to other work in the area and its potential impact on future research and applications.\\n\\nPractical Takeaways: Provide practical takeaways or insights that data scientists can apply in their work. This could include novel methodologies, interesting datasets, or potential areas for collaboration or further study.\\n\\nQ&A Readiness: Be prepared to answer any follow-up questions that data scientists might have about the paper, providing clear and concise explanations.\\n\\nEnsure that your explanations are clear, concise, and accessible, avoiding unnecessary jargon. Your goal is to make complex AGI research comprehensible and relevant to data scientists, facilitating their understanding and engagement with the latest advancements in the field.\\n\", metadata={}, model='gpt-4o-mini', name='aggie', object='assistant', tools=[FileSearchTool(type='file_search', file_search=FileSearch(max_num_results=None, ranking_options=FileSearchRankingOptions(score_threshold=0.0, ranker='default_2024_08_21')))], response_format='auto', temperature=1.0, tool_resources=ToolResources(code_interpreter=None, file_search=ToolResourcesFileSearch(vector_store_ids=['vs_xjMgYgwjrroetSWr1Oc58Lll'])), top_p=1.0)"
      ]
     },
     "execution_count": 41,
     "metadata": {},
     "output_type": "execute_result"
    }
   ],
   "source": [
    "aggie"
   ]
  },
  {
   "cell_type": "code",
   "execution_count": 42,
   "id": "0fac0598-1d15-4594-8b2c-28edd54814db",
   "metadata": {},
   "outputs": [],
   "source": [
    "conversation = client.beta.threads.create()"
   ]
  },
  {
   "cell_type": "code",
   "execution_count": 43,
   "id": "79c3d8e6-fc82-422b-b087-da173f5f5818",
   "metadata": {},
   "outputs": [
    {
     "data": {
      "text/plain": [
       "Thread(id='thread_zt2IIn9LZgEaGt1APBMkLKK4', created_at=1733924196, metadata={}, object='thread', tool_resources=ToolResources(code_interpreter=None, file_search=None))"
      ]
     },
     "execution_count": 43,
     "metadata": {},
     "output_type": "execute_result"
    }
   ],
   "source": [
    "conversation"
   ]
  },
  {
   "cell_type": "code",
   "execution_count": 44,
   "id": "8df3efa6-5cd4-4473-88ef-3469dbabad35",
   "metadata": {},
   "outputs": [
    {
     "data": {
      "text/plain": [
       "Message(id='msg_xfNTCZw3CPx4bgN7mdGtzUBR', assistant_id=None, attachments=[], completed_at=None, content=[TextContentBlock(text=Text(annotations=[], value='What are the most common definitions for AGI'), type='text')], created_at=1733924198, incomplete_at=None, incomplete_details=None, metadata={}, object='thread.message', role='user', run_id=None, status=None, thread_id='thread_zt2IIn9LZgEaGt1APBMkLKK4')"
      ]
     },
     "execution_count": 44,
     "metadata": {},
     "output_type": "execute_result"
    }
   ],
   "source": [
    "msg_what_is_agi = client.beta.threads.messages.create(\n",
    "    thread_id=conversation.id,\n",
    "    role=\"user\",\n",
    "    content=\"What are the most common definitions for AGI\"\n",
    ")\n",
    "\n",
    "msg_what_is_agi"
   ]
  },
  {
   "cell_type": "code",
   "execution_count": 45,
   "id": "f334a23f-c984-4caa-84c8-7ab02cb8326d",
   "metadata": {},
   "outputs": [],
   "source": [
    "# Run this\n",
    "from typing_extensions import override\n",
    "from openai import AssistantEventHandler\n",
    " \n",
    "# First, we create a EventHandler class to define\n",
    "# how we want to handle the events in the response stream.\n",
    " \n",
    "class EventHandler(AssistantEventHandler):    \n",
    "  @override\n",
    "  def on_text_created(self, text) -> None:\n",
    "    print(f\"\\nassistant > \", end=\"\", flush=True)\n",
    "      \n",
    "  @override\n",
    "  def on_text_delta(self, delta, snapshot):\n",
    "    print(delta.value, end=\"\", flush=True)\n",
    "      \n",
    "  def on_tool_call_created(self, tool_call):\n",
    "    print(f\"\\nassistant > {tool_call.type}\\n\", flush=True)\n",
    "  \n",
    "  def on_tool_call_delta(self, delta, snapshot):\n",
    "    if delta.type == 'code_interpreter':\n",
    "      if delta.code_interpreter.input:\n",
    "        print(delta.code_interpreter.input, end=\"\", flush=True)\n",
    "      if delta.code_interpreter.outputs:\n",
    "        print(f\"\\n\\noutput >\", flush=True)\n",
    "        for output in delta.code_interpreter.outputs:\n",
    "          if output.type == \"logs\":\n",
    "            print(f\"\\n{output.logs}\", flush=True)\n"
   ]
  },
  {
   "cell_type": "code",
   "execution_count": 46,
   "id": "2d4ae686-05e8-48ae-8f56-86419d0dfbe5",
   "metadata": {},
   "outputs": [],
   "source": [
    "# Run this\n",
    "def run_aggie():\n",
    "    with client.beta.threads.runs.stream(\n",
    "        thread_id=conversation.id,\n",
    "        assistant_id=aggie.id,\n",
    "        event_handler=EventHandler(),\n",
    "    ) as stream:\n",
    "        stream.until_done()"
   ]
  },
  {
   "cell_type": "code",
   "execution_count": 47,
   "id": "51932c86-fbf4-42a9-9a18-8b1574126add",
   "metadata": {},
   "outputs": [
    {
     "name": "stdout",
     "output_type": "stream",
     "text": [
      "\n",
      "assistant > file_search\n",
      "\n",
      "\n",
      "assistant > Here are some of the most common definitions of Artificial General Intelligence (AGI) identified from the uploaded papers:\n",
      "\n",
      "1. **Flexible and General Intelligence**: According to Marcus (2022), AGI is defined as \"any intelligence that is flexible and general,\" with resourcefulness and reliability comparable to or exceeding human intelligence. This framework emphasizes both the generality of capabilities and the performance in various contexts【4:0†source】.\n",
      "\n",
      "2. **Human-Level Performance**: Legg and Goertzel popularized the term AGI to mean a machine capable of performing cognitive tasks typically done by humans. This definition focuses on non-physical tasks but raises questions about which tasks and which humans are referenced【4:1†source】.\n",
      "\n",
      "3. **Ability to Learn Broadly**: Shanahan (2015) proposed that AGI should not be designed for specific tasks but must learn to perform a wide range of tasks similar to a human. This highlights the significance of metacognitive abilities, where the system can adapt by learning new skills【4:5†source】.\n",
      "\n",
      "4. **Economically Valuable Work**: OpenAI defines AGI as highly autonomous systems that outperform humans at most economically valuable work. This definition suggests evaluation based on performance rather than processes, although it doesn't encompass all aspects of intelligence, such as creativity or emotional understanding【4:6†source】.\n",
      "\n",
      "5. **Adaptive Intelligence in Open Environments**: One of the key interpretations defines AGI as a system capable of adapting to an open environment, solving non-specific problems with limited computational resources【4:2†source】.\n",
      "\n",
      "6. **General Purpose Systems**: Historically AGI has been described as systems that are not specifically designed for predetermined tasks but are capable of performing a variety of functions without requiring further human input【4:9†source】.\n",
      "\n",
      "These definitions share a common theme of striving for flexibility, adaptability, and the ability to learn, which distinguishes AGI from more narrow AI systems that are used for specific tasks. The ongoing debate about AGI's definition reflects its complex nature and the variety of perspectives within the field."
     ]
    }
   ],
   "source": [
    "run_aggie()"
   ]
  },
  {
   "cell_type": "code",
   "execution_count": 48,
   "id": "6c97bfae-d0ee-43e0-941d-0079dba015dc",
   "metadata": {},
   "outputs": [],
   "source": [
    "msg_how_close_is_agi = client.beta.threads.messages.create(\n",
    "    thread_id=conversation.id,\n",
    "    role=\"user\",\n",
    "    content=\"How close are we to developing AGI?\"\n",
    ")"
   ]
  },
  {
   "cell_type": "code",
   "execution_count": 49,
   "id": "992c079a-605e-491a-982b-a3ef36155207",
   "metadata": {},
   "outputs": [
    {
     "name": "stdout",
     "output_type": "stream",
     "text": [
      "\n",
      "assistant > file_search\n",
      "\n",
      "\n",
      "assistant > Current estimates regarding the timeline for the development of Artificial General Intelligence (AGI) exhibit considerable variability among researchers. Here are some insights gathered from the literature about how close we might be to achieving AGI:\n",
      "\n",
      "1. **Diverse Predictions by Researchers**: At a conference in 2024, a survey revealed that opinions on the time frame for achieving AGI are quite split. Approximately 37% of respondents believe it will take more than 20 years, while other estimates suggest a possibility within 1-5 years【8:2†source】【8:1†source】.\n",
      "\n",
      "2. **Geoffrey Hinton's Estimate**: Renowned AI researcher Geoffrey Hinton has shifted his views and now estimates that AGI could potentially be reached within 5 to 20 years, indicating a sense of urgency in the field【8:0†source】.\n",
      "\n",
      "3. **Current AI Capabilities**: As of now, most existing AI systems are classified as Level 1 AGI, meaning they perform at or slightly better than humans on specific benchmark tasks. The progression toward more advanced levels (such as Level 2 or Level 3 AGI) is still in its infancy with few systems fully capable of replacing human abilities across diverse tasks【8:14†source】.\n",
      "\n",
      "4. **Scaling Laws and Performance**: The scaling laws for AI indicate that while improving model sizes and training data leads to enhanced performance, significant limitations remain. Certain competencies such as ethical reasoning, creativity, and real-world intuition may not be effectively addressed through scaling alone【8:1†source】【8:10†source】.\n",
      "\n",
      "5. **Challenges and Considerations**: There is ongoing debate about the necessary capabilities for AGI and the fundamental advancements required for intelligence to be robust and aligned with human values. Issues related to energy consumption, alignment problems, and the complexity of creating a reliable system architecture are highlighted as significant hurdles【8:19†source】【8:8†source】.\n",
      "\n",
      "6. **Cultural and Ethical Dimensions**: Discussions around AGI development now include ethical implications and societal impacts, emphasizing that any progress should not only focus on the technical aspects but also consider how AGI aligns with human interests【8:17†source】. \n",
      "\n",
      "In summary, while recent advancements in AI have demonstrated remarkable progress, consensus on when AGI will be achieved remains elusive, with predictions widely spanning from immediate to decades away. Understanding this context can provide crucial insights for researchers and practitioners looking to engage with future AGI developments."
     ]
    }
   ],
   "source": [
    "run_aggie()"
   ]
  },
  {
   "cell_type": "code",
   "execution_count": null,
   "id": "db7347fa-f091-40b8-9363-932eaee66ddb",
   "metadata": {},
   "outputs": [],
   "source": []
  }
 ],
 "metadata": {
  "kernelspec": {
   "display_name": "Python 3 (ipykernel)",
   "language": "python",
   "name": "python3"
  },
  "language_info": {
   "codemirror_mode": {
    "name": "ipython",
    "version": 3
   },
   "file_extension": ".py",
   "mimetype": "text/x-python",
   "name": "python",
   "nbconvert_exporter": "python",
   "pygments_lexer": "ipython3",
   "version": "3.9.6"
  }
 },
 "nbformat": 4,
 "nbformat_minor": 5
}
